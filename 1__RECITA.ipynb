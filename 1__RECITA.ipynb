{
 "cells": [
  {
   "cell_type": "code",
   "execution_count": 1,
   "id": "f2708e62-8b45-4673-b9e4-d8dd8ecdb2bd",
   "metadata": {},
   "outputs": [],
   "source": [
    "import ipywidgets.widgets as widgets\n",
    "from IPython.display import display\n",
    "import time # da rimuovere\n",
    "import threading\n",
    "from DOGZILLALib import DOGZILLA\n",
    "g_dog = DOGZILLA()"
   ]
  },
  {
   "cell_type": "code",
   "execution_count": 2,
   "id": "3e764e19-d27d-4287-8856-2e6e7b300e06",
   "metadata": {},
   "outputs": [],
   "source": [
    "Name_widgets = {\n",
    "    'STOP_ALL': ('STOP_ALL'),\n",
    "    'Azione_1': (\"Azione_1\"),\n",
    "    'Azione_2': (\"Azione_2\")\n",
    "}"
   ]
  },
  {
   "cell_type": "code",
   "execution_count": 3,
   "id": "56b38c65-32fd-4889-9751-ab66e6469c2a",
   "metadata": {},
   "outputs": [],
   "source": [
    "pulsante_stop_all = widgets.Button(        \n",
    "    description=Name_widgets['STOP_ALL'],     \n",
    "    button_style='warning', # 'success', 'info', 'warning', 'danger' or ''     \n",
    "    tooltip='Description',     \n",
    "    icon='uncheck' )\n",
    "\n",
    "pulsante_azione_1 = widgets.Button(        \n",
    "    description=Name_widgets['Azione_1'],     \n",
    "    button_style='info', # 'success', 'info', 'warning', 'danger' or ''     \n",
    "    tooltip='Description',     \n",
    "    icon='uncheck' )\n",
    "\n",
    "pulsante_azione_2 = widgets.Button(     \n",
    "    description=Name_widgets['Azione_2'],     \n",
    "    button_style='info', # 'success', 'info', 'warning', 'danger' or ''     \n",
    "    tooltip='Description',     \n",
    "    icon='uncheck' )\n",
    "\n"
   ]
  },
  {
   "cell_type": "code",
   "execution_count": 4,
   "id": "c45f0fe2-bc58-4bb0-854f-2ae21c98857b",
   "metadata": {},
   "outputs": [],
   "source": [
    "def ALL_Uncheck():\n",
    "    pulsante_azione_1.icon = 'uncheck'\n",
    "    pulsante_azione_2.icon = 'uncheck'\n",
    "    "
   ]
  },
  {
   "cell_type": "code",
   "execution_count": 5,
   "id": "79625184-626b-4576-a4e2-51c8a4a93176",
   "metadata": {},
   "outputs": [],
   "source": [
    "def do_action_1(b):\n",
    "    print(\"sto facendo l'azione 1.1...\")\n",
    "    time.sleep(2) # aspetto 2 secondi\n",
    "    print(\"sto facendo l'azione 1.2...\")\n",
    "    time.sleep(2) # aspetto 2 secondi\n",
    "    print(\"sto facendo l'azione 1.3...\")\n",
    "    time.sleep(2) # aspetto 2 secondi\n",
    "    print(\"sto facendo l'azione 1.4...\")\n",
    "    time.sleep(2) # aspetto 2 secondi\n",
    "    print(\"Ho concluso l'azione 1\")\n",
    "    b.icon = 'uncheck' # aggiungi l'uncheck qui\n",
    "    \n",
    "def do_action_2(b):\n",
    "    print(\"sto facendo l'azione 2...\")\n",
    "    time.sleep(2) # aspetto 2 secondi\n",
    "    print(\"...ho concluso l'azione 2!\")\n",
    "    b.icon = 'uncheck' # aggiungi l'uncheck qui\n",
    "\n",
    "\n",
    "def run_action(b, action_func):\n",
    "    g_dog.stop()\n",
    "    b.icon = 'check'\n",
    "    action_thread = threading.Thread(target=action_func, args=[b])\n",
    "    action_thread.start()\n",
    "    \n",
    "\n",
    "    while action_thread.is_alive():\n",
    "        # controlla se il pulsante STOP_ALL è stato premuto\n",
    "        if pulsante_stop_all.icon == 'check':\n",
    "            g_dog.stop()\n",
    "            b.icon = 'uncheck'\n",
    "            return\n",
    "        time.sleep(0.1)\n",
    "\n",
    "    b.icon = 'uncheck'"
   ]
  },
  {
   "cell_type": "code",
   "execution_count": 6,
   "id": "b14f550d-da2d-4bee-bd21-1727a97046fd",
   "metadata": {},
   "outputs": [],
   "source": [
    "# Key press event processing\n",
    "def on_button_clicked_control(b):\n",
    "    print(\"Fermo tutto\")\n",
    "    ALL_Uncheck() # disabilita tutto\n",
    "    b.icon = 'check'\n",
    "    with output:\n",
    "        print(\"Azione avviata: \", b.description)\n",
    "\n",
    "    if b.description == Name_widgets['STOP_ALL']:\n",
    "        b.icon = 'check'\n",
    "        g_dog.stop()\n",
    "        b.icon = 'uncheck'\n",
    "\n",
    "    elif b.description == Name_widgets['Azione_1']:\n",
    "        g_dog.stop()\n",
    "        b.icon = 'check'\n",
    "        action_thread = threading.Thread(target=do_action_1)\n",
    "        action_thread.start()\n",
    "        \n",
    "    elif b.description == Name_widgets['Azione_2']:\n",
    "        g_dog.stop()\n",
    "        b.icon = 'check'\n",
    "        action_thread = threading.Thread(target=do_action_2)\n",
    "        action_thread.start()\n",
    "    else:\n",
    "        return"
   ]
  },
  {
   "cell_type": "code",
   "execution_count": 7,
   "id": "ec60b22b-bc81-4902-8c27-d1fcf502d192",
   "metadata": {},
   "outputs": [],
   "source": [
    "pulsante_stop_all.on_click(on_button_clicked_control)\n",
    "pulsante_azione_1.on_click(on_button_clicked_control)\n",
    "pulsante_azione_2.on_click(on_button_clicked_control)\n"
   ]
  },
  {
   "cell_type": "code",
   "execution_count": 8,
   "id": "abd00e53-3aa6-40f1-b224-ab621bd2ce01",
   "metadata": {},
   "outputs": [],
   "source": [
    "# HBOX = Horizontal Box\n",
    "# VBOX = Vertical Box"
   ]
  },
  {
   "cell_type": "code",
   "execution_count": 9,
   "id": "3160b701-ea44-4a38-8dc2-a8ed8e9292b2",
   "metadata": {},
   "outputs": [
    {
     "data": {
      "application/vnd.jupyter.widget-view+json": {
       "model_id": "e5ba844bca644b91ba032725d240b1b0",
       "version_major": 2,
       "version_minor": 0
      },
      "text/plain": [
       "VBox(children=(HBox(children=(Button(button_style='warning', description='STOP_ALL', icon='uncheck', style=But…"
      ]
     },
     "metadata": {},
     "output_type": "display_data"
    },
    {
     "data": {
      "application/vnd.jupyter.widget-view+json": {
       "model_id": "e1429e5d8acc4e0399c18cea6525047c",
       "version_major": 2,
       "version_minor": 0
      },
      "text/plain": [
       "Output()"
      ]
     },
     "metadata": {},
     "output_type": "display_data"
    }
   ],
   "source": [
    "output = widgets.Output() # dove viene salvato l'output dei vari comandi\n",
    "\n",
    "box_riga_1 = widgets.HBox([pulsante_stop_all])\n",
    "box_riga_2 = widgets.HBox([pulsante_azione_1, pulsante_azione_2])\n",
    "box_completo = widgets.VBox([box_riga_1, box_riga_2])\n",
    "display(box_completo, output)"
   ]
  },
  {
   "cell_type": "code",
   "execution_count": null,
   "id": "768d3a3b-2a4b-4cd9-81ff-cefb0048c100",
   "metadata": {},
   "outputs": [],
   "source": []
  }
 ],
 "metadata": {
  "kernelspec": {
   "display_name": "Python 3 (ipykernel)",
   "language": "python",
   "name": "python3"
  },
  "language_info": {
   "codemirror_mode": {
    "name": "ipython",
    "version": 3
   },
   "file_extension": ".py",
   "mimetype": "text/x-python",
   "name": "python",
   "nbconvert_exporter": "python",
   "pygments_lexer": "ipython3",
   "version": "3.8.10"
  }
 },
 "nbformat": 4,
 "nbformat_minor": 5
}
