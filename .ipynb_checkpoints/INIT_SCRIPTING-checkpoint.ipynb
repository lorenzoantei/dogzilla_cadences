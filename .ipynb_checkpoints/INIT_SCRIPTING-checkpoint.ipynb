{
 "cells": [
  {
   "cell_type": "code",
   "execution_count": 1,
   "id": "849109ae-60b9-46ef-bc14-41b05dbee136",
   "metadata": {},
   "outputs": [],
   "source": [
    "# 导入库  import library\n",
    "import ipywidgets.widgets as widgets\n",
    "from IPython.display import display\n",
    "import time"
   ]
  },
  {
   "cell_type": "code",
   "execution_count": 2,
   "id": "bbf26a2e-7e43-43c5-a55a-644e8ee27ff2",
   "metadata": {},
   "outputs": [],
   "source": [
    "# Dogzilla drive library\n",
    "from DOGZILLALib import DOGZILLA\n",
    "g_dog = DOGZILLA()"
   ]
  },
  {
   "cell_type": "code",
   "execution_count": 3,
   "id": "4ac392ce-1676-48ab-80c4-1aca98a1a4f4",
   "metadata": {},
   "outputs": [],
   "source": [
    "g_ENABLE_CHINESE = False\n",
    "\n",
    "Name_widgets = {\n",
    "    'Stop': (\"Stop\", \"\"),\n",
    "    'Forward': (\"Forward\", \"\"),\n",
    "    'Backward': (\"Backward\", \"\")\n",
    "}"
   ]
  },
  {
   "cell_type": "code",
   "execution_count": 4,
   "id": "ca9900a3-8fe5-4acd-875d-75d731386e7a",
   "metadata": {},
   "outputs": [],
   "source": [
    "#  STOP\n",
    "button_stop = widgets.Button(       \n",
    "    description=Name_widgets['Stop'][g_ENABLE_CHINESE],\n",
    "    button_style='info', # 'success', 'info', 'warning', 'danger' or ''\n",
    "    tooltip='Description',\n",
    "    icon='uncheck' )\n",
    "\n",
    "#  Forward\n",
    "button_forward = widgets.Button(     \n",
    "    description=Name_widgets['Forward'][g_ENABLE_CHINESE],        \n",
    "    button_style='info', # 'success', 'info', 'warning', 'danger' or ''     \n",
    "    tooltip='Description',     \n",
    "    icon='uncheck' )\n",
    "\n",
    "#  Backward\n",
    "button_backward = widgets.Button(        \n",
    "    description=Name_widgets['Backward'][g_ENABLE_CHINESE],         \n",
    "    button_style='info', # 'success', 'info', 'warning', 'danger' or ''     \n",
    "    tooltip='Description',     \n",
    "    icon='uncheck' )\n"
   ]
  },
  {
   "cell_type": "code",
   "execution_count": 5,
   "id": "a03b71b8-7f4a-4231-a36a-d29e4791e22a",
   "metadata": {},
   "outputs": [],
   "source": [
    "# Clear button display status\n",
    "def ALL_Uncheck():\n",
    "    button_stop.icon = 'uncheck'\n",
    "    button_forward.icon = 'uncheck'\n",
    "    button_backward.icon = 'uncheck'\n",
    "\n",
    "# print(\"fermo tutto\")\n",
    "# g_dog.stop()\n",
    "# print(\"Avvio la routine\")\n",
    "# g_dog.forward(25)\n",
    "# print(\"Sto camminando\")\n",
    "# time.sleep(2)  # Wait for 2 seconds\n",
    "# print(\"due secondi passati\")\n",
    "# g_dog.stop()\n",
    "# g_dog.forward(25)\n",
    "# print(\"Sto camminando\")\n",
    "# time.sleep(2)  # Wait for 2 seconds\n",
    "# g_dog.stop()    \n",
    "\n",
    "# Key press event processing\n",
    "def on_button_clicked(b):\n",
    "    ALL_Uncheck()\n",
    "    b.icon = 'check'\n",
    "    with output:\n",
    "        print(\"Button clicked:\", b.description)\n",
    "    if b.description == Name_widgets['Stop'][g_ENABLE_CHINESE]:\n",
    "        g_dog.stop()\n",
    "        b.icon = 'uncheck'\n",
    "    elif b.description == Name_widgets['Forward'][g_ENABLE_CHINESE]:\n",
    "        print(\"fermo tutto\")\n",
    "        g_dog.stop()\n",
    "        print(\"Avvio la routine\")\n",
    "        g_dog.forward(25)\n",
    "        print(\"Sto camminando\")\n",
    "        time.sleep(2)  # Wait for 2 seconds\n",
    "        print(\"due secondi passati\")\n",
    "        g_dog.stop()\n",
    "    elif b.description == Name_widgets['Backward'][g_ENABLE_CHINESE]:\n",
    "        g_dog.stop()\n",
    "        g_dog.back(25)\n",
    "        time.sleep(2)  # Wait for 2 seconds\n",
    "        print(\"due secondi passati\")\n",
    "        g_dog.stop()\n",
    "        ALL_Uncheck()\n"
   ]
  },
  {
   "cell_type": "code",
   "execution_count": 6,
   "id": "dae43019-7f03-4329-a13b-97ea27f38d83",
   "metadata": {},
   "outputs": [],
   "source": [
    "# Button event callbacks\n",
    "button_stop.on_click(on_button_clicked)\n",
    "button_forward.on_click(on_button_clicked)\n",
    "button_backward.on_click(on_button_clicked)\n"
   ]
  },
  {
   "cell_type": "code",
   "execution_count": 7,
   "id": "7288aaba-b48c-4f11-8d85-18719be5e1db",
   "metadata": {},
   "outputs": [
    {
     "data": {
      "application/vnd.jupyter.widget-view+json": {
       "model_id": "28de79b503674da1b952c5b3330ef97f",
       "version_major": 2,
       "version_minor": 0
      },
      "text/plain": [
       "VBox(children=(HBox(children=(VBox(children=(Button(button_style='info', description='Forward', icon='uncheck'…"
      ]
     },
     "metadata": {},
     "output_type": "display_data"
    }
   ],
   "source": [
    "# Layout widgets and display them\n",
    "output = widgets.Output()\n",
    "box_btn1 = widgets.VBox([button_forward, button_backward])\n",
    "box_h = widgets.HBox([box_btn1, button_stop])\n",
    "box_display = widgets.VBox([box_h, output])\n",
    "display(box_display)\n",
    "g_dog.stop()"
   ]
  }
 ],
 "metadata": {
  "kernelspec": {
   "display_name": "Python 3 (ipykernel)",
   "language": "python",
   "name": "python3"
  },
  "language_info": {
   "codemirror_mode": {
    "name": "ipython",
    "version": 3
   },
   "file_extension": ".py",
   "mimetype": "text/x-python",
   "name": "python",
   "nbconvert_exporter": "python",
   "pygments_lexer": "ipython3",
   "version": "3.8.10"
  }
 },
 "nbformat": 4,
 "nbformat_minor": 5
}
